{
 "cells": [
  {
   "cell_type": "markdown",
   "metadata": {},
   "source": [
    "# Stance Detection System"
   ]
  },
  {
   "cell_type": "code",
   "execution_count": null,
   "metadata": {},
   "outputs": [],
   "source": [
    "import numpy as np\n",
    "import gensim\n",
    "import unicodedata\n",
    "import string\n",
    "from nltk.corpus import stopwords\n",
    "from sklearn import preprocessing, linear_model\n",
    "from sklearn.svm import SVC\n",
    "from sklearn.model_selection import KFold\n",
    "from sklearn.ensemble import RandomForestClassifier\n",
    "from sklearn.metrics import f1_score\n",
    "from sklearn.model_selection import cross_val_score\n",
    "\n",
    "class MeanEmbeddingVectorizer(object):\n",
    "    def __init__(self, word2vec):\n",
    "        self.word2vec = word2vec\n",
    "        # if a text is empty we should return a vector of zeros\n",
    "        # with the same dimensionality as all the other vectors\n",
    "        #self.dim = len(word2vec.items().next())\n",
    "        self.dim=150\n",
    "\n",
    "    def fit(self, X, y):\n",
    "        return self\n",
    "\n",
    "    def transform(self, X):\n",
    "        return np.array([\n",
    "            np.mean([self.word2vec[w] for w in words if w in self.word2vec]\n",
    "                    or [np.zeros(self.dim)], axis=0)\n",
    "            for words in X\n",
    "        ])"
   ]
  },
  {
   "cell_type": "markdown",
   "metadata": {},
   "source": [
    "Creating the stoplist of words for Catalan and Spanish"
   ]
  },
  {
   "cell_type": "code",
   "execution_count": null,
   "metadata": {},
   "outputs": [],
   "source": [
    "punctuation = str.maketrans('', '', string.punctuation)\n",
    "file = open(\"stopwords-ca.txt\", \"r\")\n",
    "stoplist = file.readlines()\n",
    "for i in range(0,len(stoplist)):\n",
    "    stoplist[i] = stoplist[i].rstrip()\n",
    "stoplist += (stopwords.words('spanish'))"
   ]
  },
  {
   "cell_type": "markdown",
   "metadata": {},
   "source": [
    "Loading and preprocessing the data"
   ]
  },
  {
   "cell_type": "code",
   "execution_count": null,
   "metadata": {},
   "outputs": [],
   "source": [
    "with open(\"Stance-IberEval2017-training-20170320/training_tweets_es.txt\", \"r\") as lines:\n",
    "    w2vES=[line.split(':::',1)[1].encode('utf-8') for line in lines]\n",
    "    for i in range(0,len(w2vES)):\n",
    "        tmp = ''.join(c for c in unicodedata.normalize('NFD', w2vES[i].decode('utf-8'))\n",
    "                  if unicodedata.category(c) != 'Mn')\n",
    "        w2vES[i] = (tmp.translate(punctuation)).encode('utf-8')\n",
    "    \n",
    "print(len(w2vES))\n",
    "print(\"Start\")\n",
    "XES=[[word.lower() for word in line.split() if word.decode(\"utf-8\").lower() not in stoplist] for line in w2vES]\n",
    "print(XES[0])\n",
    "print(len(XES))\n",
    "\n",
    "with open(\"Stance-IberEval2017-training-20170320/training_tweets_ca.txt\", \"r\") as lines:\n",
    "    w2vCA=[line.split(':::',1)[1].encode('utf-8') for line in lines]\n",
    "    for i in range(0,len(w2vCA)):\n",
    "        tmp = ''.join(c for c in unicodedata.normalize('NFD', w2vCA[i].decode('utf-8'))\n",
    "                  if unicodedata.category(c) != 'Mn')\n",
    "        w2vCA[i] = (tmp.translate(punctuation)).encode('utf-8')\n",
    "    \n",
    "print(len(w2vCA))\n",
    "print(\"Start\")\n",
    "XCA=[[word.lower() for word in line.split() if word.decode(\"utf-8\").lower() not in stoplist] for line in w2vCA]\n",
    "print(XCA[0])\n",
    "print(len(XCA))"
   ]
  },
  {
   "cell_type": "markdown",
   "metadata": {},
   "source": [
    "Word2vec Embedding"
   ]
  },
  {
   "cell_type": "code",
   "execution_count": null,
   "metadata": {},
   "outputs": [],
   "source": [
    "modelES = gensim.models.Word2Vec(XES, size=150 ,min_count=5)\n",
    "w2vES = dict(zip(modelES.wv.index2word, modelES.wv.syn0))\n",
    "\n",
    "print(\"Embedding data ES\")\n",
    "#Embeddingvectorizer\n",
    "Z=MeanEmbeddingVectorizer(w2vES)\n",
    "Z1ES=Z.transform(XES)\n",
    "\n",
    "modelCA = gensim.models.Word2Vec(XCA, size=150 ,min_count=5)\n",
    "w2vCA = dict(zip(modelCA.wv.index2word, modelCA.wv.syn0))\n",
    "\n",
    "print(\"Embedding data CA\")\n",
    "#Embeddingvectorizer\n",
    "Z=MeanEmbeddingVectorizer(w2vCA)\n",
    "Z1CA=Z.transform(XCA)"
   ]
  },
  {
   "cell_type": "markdown",
   "metadata": {},
   "source": [
    "Preprocessing the labels of the dataset"
   ]
  },
  {
   "cell_type": "code",
   "execution_count": null,
   "metadata": {},
   "outputs": [],
   "source": [
    "with open(\"Stance-IberEval2017-training-20170320/training_truth_es.txt\") as lines:\n",
    "    labelsES = [line.split(':::',2)[1].encode('utf-8') for line in lines]\n",
    "\n",
    "with open(\"Stance-IberEval2017-training-20170320/training_truth_ca.txt\") as lines:\n",
    "    labelsCA = [line.split(':::',2)[1].encode('utf-8') for line in lines]"
   ]
  },
  {
   "cell_type": "markdown",
   "metadata": {},
   "source": [
    "SVM Classifier"
   ]
  },
  {
   "cell_type": "code",
   "execution_count": null,
   "metadata": {},
   "outputs": [],
   "source": [
    "le = preprocessing.LabelEncoder()\n",
    "labelsES = le.fit_transform(labelsES)\n",
    "\n",
    "\n",
    "kf = KFold(n_splits=10) \n",
    "kf.get_n_splits(Z1ES)\n",
    "#clf = RandomForestClassifier(n_estimators=125, random_state=0)\n",
    "#logreg = linear_model.LogisticRegression(C=2e5)\n",
    "clf = SVC(C=2.9e5)\n",
    "print('Spanish:')\n",
    "for train_index, test_index in kf.split(Z1ES):\n",
    "    X_train, X_test = Z1ES[train_index], Z1ES[test_index]\n",
    "    y_train, y_test = labelsES[train_index], labelsES[test_index]\n",
    "    clf.fit(X_train, y_train)\n",
    "    print(f1_score(y_test, clf.predict(X_test), average='macro'))\n",
    "    \n",
    "    \n",
    "labelsCA = le.fit_transform(labelsCA)\n",
    "\n",
    "\n",
    "kf = KFold(n_splits=10) \n",
    "kf.get_n_splits(Z1CA)\n",
    "#clf = RandomForestClassifier(n_estimators=125, random_state=0)\n",
    "#logreg = linear_model.LogisticRegression(C=2e5)   \n",
    "clf = SVC(C=2.7e5)\n",
    "print('Catalan:')\n",
    "for train_index, test_index in kf.split(Z1CA):\n",
    "    X_train, X_test = Z1CA[train_index], Z1CA[test_index]\n",
    "    y_train, y_test = labelsCA[train_index], labelsCA[test_index]\n",
    "    clf.fit(X_train, y_train)\n",
    "    print(f1_score(y_test, clf.predict(X_test), average='macro'))"
   ]
  },
  {
   "cell_type": "code",
   "execution_count": null,
   "metadata": {},
   "outputs": [],
   "source": []
  }
 ],
 "metadata": {
  "kernelspec": {
   "display_name": "Python 3",
   "language": "python",
   "name": "python3"
  },
  "language_info": {
   "codemirror_mode": {
    "name": "ipython",
    "version": 3
   },
   "file_extension": ".py",
   "mimetype": "text/x-python",
   "name": "python",
   "nbconvert_exporter": "python",
   "pygments_lexer": "ipython3",
   "version": "3.6.3"
  }
 },
 "nbformat": 4,
 "nbformat_minor": 2
}
